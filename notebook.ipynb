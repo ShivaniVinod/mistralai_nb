{
  "nbformat": 4,
  "nbformat_minor": 0,
  "metadata": {
    "colab": {
      "provenance": [],
      "gpuType": "T4"
    },
    "kernelspec": {
      "name": "python3",
      "display_name": "Python 3"
    },
    "language_info": {
      "name": "python"
    },
    "accelerator": "GPU"
  },
  "cells": [
    {
      "cell_type": "code",
      "source": [
        "pip install mistralai\n"
      ],
      "metadata": {
        "colab": {
          "base_uri": "https://localhost:8080/"
        },
        "id": "8c4RGDVwoA3-",
        "outputId": "cac3b567-205f-4e03-d559-8d1db293cd71"
      },
      "execution_count": 1,
      "outputs": [
        {
          "output_type": "stream",
          "name": "stdout",
          "text": [
            "Collecting mistralai\n",
            "  Downloading mistralai-1.8.1-py3-none-any.whl.metadata (33 kB)\n",
            "Collecting eval-type-backport>=0.2.0 (from mistralai)\n",
            "  Downloading eval_type_backport-0.2.2-py3-none-any.whl.metadata (2.2 kB)\n",
            "Requirement already satisfied: httpx>=0.28.1 in /usr/local/lib/python3.11/dist-packages (from mistralai) (0.28.1)\n",
            "Requirement already satisfied: pydantic>=2.10.3 in /usr/local/lib/python3.11/dist-packages (from mistralai) (2.11.5)\n",
            "Requirement already satisfied: python-dateutil>=2.8.2 in /usr/local/lib/python3.11/dist-packages (from mistralai) (2.9.0.post0)\n",
            "Requirement already satisfied: typing-inspection>=0.4.0 in /usr/local/lib/python3.11/dist-packages (from mistralai) (0.4.1)\n",
            "Requirement already satisfied: anyio in /usr/local/lib/python3.11/dist-packages (from httpx>=0.28.1->mistralai) (4.9.0)\n",
            "Requirement already satisfied: certifi in /usr/local/lib/python3.11/dist-packages (from httpx>=0.28.1->mistralai) (2025.4.26)\n",
            "Requirement already satisfied: httpcore==1.* in /usr/local/lib/python3.11/dist-packages (from httpx>=0.28.1->mistralai) (1.0.9)\n",
            "Requirement already satisfied: idna in /usr/local/lib/python3.11/dist-packages (from httpx>=0.28.1->mistralai) (3.10)\n",
            "Requirement already satisfied: h11>=0.16 in /usr/local/lib/python3.11/dist-packages (from httpcore==1.*->httpx>=0.28.1->mistralai) (0.16.0)\n",
            "Requirement already satisfied: annotated-types>=0.6.0 in /usr/local/lib/python3.11/dist-packages (from pydantic>=2.10.3->mistralai) (0.7.0)\n",
            "Requirement already satisfied: pydantic-core==2.33.2 in /usr/local/lib/python3.11/dist-packages (from pydantic>=2.10.3->mistralai) (2.33.2)\n",
            "Requirement already satisfied: typing-extensions>=4.12.2 in /usr/local/lib/python3.11/dist-packages (from pydantic>=2.10.3->mistralai) (4.14.0)\n",
            "Requirement already satisfied: six>=1.5 in /usr/local/lib/python3.11/dist-packages (from python-dateutil>=2.8.2->mistralai) (1.17.0)\n",
            "Requirement already satisfied: sniffio>=1.1 in /usr/local/lib/python3.11/dist-packages (from anyio->httpx>=0.28.1->mistralai) (1.3.1)\n",
            "Downloading mistralai-1.8.1-py3-none-any.whl (373 kB)\n",
            "\u001b[2K   \u001b[90m━━━━━━━━━━━━━━━━━━━━━━━━━━━━━━━━━━━━━━━━\u001b[0m \u001b[32m373.2/373.2 kB\u001b[0m \u001b[31m20.8 MB/s\u001b[0m eta \u001b[36m0:00:00\u001b[0m\n",
            "\u001b[?25hDownloading eval_type_backport-0.2.2-py3-none-any.whl (5.8 kB)\n",
            "Installing collected packages: eval-type-backport, mistralai\n",
            "Successfully installed eval-type-backport-0.2.2 mistralai-1.8.1\n"
          ]
        }
      ]
    },
    {
      "cell_type": "code",
      "source": [
        "API_KEY='rrENEIP4CNCLjIyGyG9YGbgGXgMvcWPo'\n"
      ],
      "metadata": {
        "id": "l5fUnQKQn8dM"
      },
      "execution_count": 2,
      "outputs": []
    },
    {
      "cell_type": "code",
      "source": [
        "from google.colab import drive\n",
        "drive.mount('/content/drive')\n"
      ],
      "metadata": {
        "colab": {
          "base_uri": "https://localhost:8080/"
        },
        "id": "84jGMEEyn6eW",
        "outputId": "6f831ff1-bc8e-48e6-da05-d0c104cf7558"
      },
      "execution_count": 3,
      "outputs": [
        {
          "output_type": "stream",
          "name": "stdout",
          "text": [
            "Mounted at /content/drive\n"
          ]
        }
      ]
    },
    {
      "cell_type": "code",
      "source": [
        "import re\n",
        "import base64\n",
        "from mistralai import Mistral\n",
        "\n",
        "\n",
        "def encode_image(image_location):\n",
        "    with open(image_location, 'rb') as image_file:\n",
        "        return base64.b64encode(image_file.read()).decode('utf-8')\n",
        "\n",
        "def extract_details(ocr_text):\n",
        "    # --- Normalize all markdown-style formatting and keyword variants ---\n",
        "    normalized_text = re.sub(r\"[*#]+\", \"\", ocr_text)  # remove markdown asterisks and hashtags\n",
        "\n",
        "    # Normalize variations of 'SHIP TO'\n",
        "    normalized_text = re.sub(r\"(SHIP[\\s_]*TO)[:\\-]?\", \"SHIP TO\", normalized_text, flags=re.IGNORECASE)\n",
        "\n",
        "    # --- Extract SHIP TO block ---\n",
        "    ship_to_match = re.search(\n",
        "        r\"SHIP TO\\s*(.*?)(?=\\n(?:UPS|TRACKING|1Z|TILLING|COD|BILLING|REFERENCE|\\Z))\",\n",
        "        normalized_text, re.IGNORECASE | re.DOTALL\n",
        "    )\n",
        "    ship_to_block = ship_to_match.group(1).strip() if ship_to_match else \"Not found\"\n",
        "\n",
        "    # --- Extract individual lines from SHIP TO block ---\n",
        "    ship_to_lines = [line.strip() for line in ship_to_block.splitlines() if line.strip()]\n",
        "    name = ship_to_lines[0] if len(ship_to_lines) > 0 else \"Not found\"\n",
        "    phone = ship_to_lines[1] if len(ship_to_lines) > 1 else \"Not found\"\n",
        "    address_lines = ship_to_lines[2:] if len(ship_to_lines) > 2 else []\n",
        "    address = \", \".join(address_lines)\n",
        "\n",
        "    # --- Extract tracking number ---\n",
        "    tracking_match = re.search(\n",
        "        r\"\\b1Z[\\s\\dA-Z]{10,}\\b\",  # Match 1Z and at least ~16 alphanumeric characters\n",
        "        normalized_text, re.IGNORECASE\n",
        "    )\n",
        "    tracking_number = (\n",
        "        tracking_match.group(0).replace(\" \", \"\").upper() if tracking_match else \"Not found\"\n",
        "    )\n",
        "\n",
        "    return name, phone, address, tracking_number\n",
        "\n"
      ],
      "metadata": {
        "id": "d8U4oqLJny3-"
      },
      "execution_count": 8,
      "outputs": []
    },
    {
      "cell_type": "code",
      "execution_count": 9,
      "metadata": {
        "colab": {
          "base_uri": "https://localhost:8080/"
        },
        "id": "kSpI4iBrnkka",
        "outputId": "921eb315-47bd-4925-ea29-165d634c38e7"
      },
      "outputs": [
        {
          "output_type": "stream",
          "name": "stdout",
          "text": [
            "/content/drive/MyDrive/sample_imgs/L16_aug14.jpg\n",
            "NAME: JOHN SMITH\n",
            "PHONE: 123 MAIN STREET\n",
            "ADDRESS: GREENWICH CT 06830, ---, CT 069 9-01\n",
            "TRACKING NUMBER: Not found\n",
            "/content/drive/MyDrive/sample_imgs/L1_aug25.jpg\n",
            "NAME: MATTHEW TOBIA\n",
            "PHONE: 3154311352\n",
            "ADDRESS: 5001 BRITTONFIELD PKWY, EAST SYRACUSE NY 13057, NY 132 9-01\n",
            "TRACKING NUMBER: 1Z8402630298085320\n",
            "\n",
            "BILLING\n",
            "/content/drive/MyDrive/sample_imgs/L1_aug2.jpg\n",
            "NAME: MATTHEW TOBIA\n",
            "PHONE: 3154311352\n",
            "ADDRESS: 5001 BRITTONFIELD PKWY, EAST SYRACUSE NY 13057, DPT, NY 1329-01\n",
            "TRACKING NUMBER: Not found\n",
            "/content/drive/MyDrive/sample_imgs/L1_aug3.jpg\n",
            "NAME: MATTHEW TOBIA\n",
            "PHONE: 3154311352\n",
            "ADDRESS: 5001 BRITTONFIELD PKWY, EAST SYRACUSE NY 13057, DIVERSITY, NY 1329-01\n",
            "TRACKING NUMBER: 1Z8402630298085320\n",
            "\n",
            "BILLING\n",
            "/content/drive/MyDrive/sample_imgs/L3_aug3.jpg\n",
            "NAME: Not found\n",
            "PHONE: Not found\n",
            "ADDRESS: \n",
            "TRACKING NUMBER: Not found\n",
            "/content/drive/MyDrive/sample_imgs/L4_aug6.jpg\n",
            "NAME: LANE MARTIN\n",
            "PHONE: 8801986582197\n",
            "ADDRESS: BOLIVERDESIGNS, 190 ABC ST., DHAKA, BANGLADESH, ---\n",
            "TRACKING NUMBER: Not found\n",
            "/content/drive/MyDrive/sample_imgs/L5_aug15.jpg\n",
            "NAME: DEVESH RAJARSHI\n",
            "PHONE: 09123456789\n",
            "ADDRESS: MAIN STREET, GROUND FLOOR, 4TH CROSS ROAD, 2ND, NEW YORK NY 10017, ![img-0.jpeg](img-0.jpeg), NY 100 9-44, UPS GROUND\n",
            "TRACKING NUMBER: 1Z262AY97298603378\n",
            "/content/drive/MyDrive/sample_imgs/L6_aug13.jpg\n",
            "NAME: KARTHIK NAIK\n",
            "PHONE: 9876543210\n",
            "ADDRESS: 2ND STREET, 1ST AVENUE, QUEENS NY 11103, 10 LBS, DWT: 5,3,1, NY 111 0-07\n",
            "TRACKING NUMBER: 1Z377YOX0395006567\n",
            "\n",
            "BILLING\n",
            "/content/drive/MyDrive/sample_imgs/L6_aug9.jpg\n",
            "NAME: KARTHIK NAIK\n",
            "PHONE: 9876543210\n",
            "ADDRESS: 2ND STREET, 1ST AVENUE, QUEENS NX 11103, 1 OF 1, NY 1110-07\n",
            "TRACKING NUMBER: 1Z377YOX0395006567\n",
            "\n",
            "BILLING\n",
            "/content/drive/MyDrive/sample_imgs/L9_aug20.jpg\n",
            "NAME: 1234567890\n",
            "PHONE: DATE: 02.JUL. 2019\n",
            "ADDRESS: \n",
            "TRACKING NUMBER: Not found\n"
          ]
        }
      ],
      "source": [
        "import os\n",
        "API_KEY='rrENEIP4CNCLjIyGyG9YGbgGXgMvcWPo'\n",
        "\n",
        "image_folder = '/content/drive/MyDrive/sample_imgs/'\n",
        "image_files = [f for f in os.listdir(image_folder) if f.lower().endswith(('.jpg', '.jpeg', '.png'))]\n",
        "\n",
        "data = []\n",
        "\n",
        "for image_file in image_files:\n",
        "    image_path = os.path.join(image_folder, image_file)\n",
        "    base64image = encode_image(image_path)\n",
        "\n",
        "    ocr_response = client.ocr.process(\n",
        "        model=\"mistral-ocr-latest\",\n",
        "        document={\n",
        "            \"type\": \"image_url\",\n",
        "            \"image_url\": f\"data:image/jpg;base64,{base64image}\"\n",
        "        }\n",
        "    )\n",
        "\n",
        "    ocr_text = ocr_response.pages[0].markdown\n",
        "    name, phone, address, tracking_number = extract_details(ocr_text)\n",
        "\n",
        "    data.append({\n",
        "        \"Name\": name,\n",
        "        \"Phone\": phone,\n",
        "        \"Address\": address,\n",
        "        \"Tracking Number\": tracking_number\n",
        "    })\n",
        "    print(image_path)\n",
        "    print(\"NAME:\", name)\n",
        "    print(\"PHONE:\", phone)\n",
        "    print(\"ADDRESS:\", address)\n",
        "    print(\"TRACKING NUMBER:\", tracking_number)\n"
      ]
    },
    {
      "cell_type": "code",
      "source": [],
      "metadata": {
        "id": "lN7oq4nMoUTk"
      },
      "execution_count": null,
      "outputs": []
    }
  ]
}