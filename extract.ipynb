{
  "nbformat": 4,
  "nbformat_minor": 0,
  "metadata": {
    "colab": {
      "provenance": []
    },
    "kernelspec": {
      "name": "python3",
      "display_name": "Python 3"
    },
    "language_info": {
      "name": "python"
    }
  },
  "cells": [
    {
      "cell_type": "code",
      "execution_count": 1,
      "metadata": {
        "colab": {
          "base_uri": "https://localhost:8080/"
        },
        "id": "YEQrt8rQ8BEX",
        "outputId": "f1f8ca5e-f525-44b9-f10b-d21439ac8fa3"
      },
      "outputs": [
        {
          "output_type": "stream",
          "name": "stdout",
          "text": [
            "Collecting mistralai\n",
            "  Downloading mistralai-1.8.2-py3-none-any.whl.metadata (33 kB)\n",
            "Collecting eval-type-backport>=0.2.0 (from mistralai)\n",
            "  Downloading eval_type_backport-0.2.2-py3-none-any.whl.metadata (2.2 kB)\n",
            "Requirement already satisfied: httpx>=0.28.1 in /usr/local/lib/python3.11/dist-packages (from mistralai) (0.28.1)\n",
            "Requirement already satisfied: pydantic>=2.10.3 in /usr/local/lib/python3.11/dist-packages (from mistralai) (2.11.5)\n",
            "Requirement already satisfied: python-dateutil>=2.8.2 in /usr/local/lib/python3.11/dist-packages (from mistralai) (2.9.0.post0)\n",
            "Requirement already satisfied: typing-inspection>=0.4.0 in /usr/local/lib/python3.11/dist-packages (from mistralai) (0.4.1)\n",
            "Requirement already satisfied: anyio in /usr/local/lib/python3.11/dist-packages (from httpx>=0.28.1->mistralai) (4.9.0)\n",
            "Requirement already satisfied: certifi in /usr/local/lib/python3.11/dist-packages (from httpx>=0.28.1->mistralai) (2025.4.26)\n",
            "Requirement already satisfied: httpcore==1.* in /usr/local/lib/python3.11/dist-packages (from httpx>=0.28.1->mistralai) (1.0.9)\n",
            "Requirement already satisfied: idna in /usr/local/lib/python3.11/dist-packages (from httpx>=0.28.1->mistralai) (3.10)\n",
            "Requirement already satisfied: h11>=0.16 in /usr/local/lib/python3.11/dist-packages (from httpcore==1.*->httpx>=0.28.1->mistralai) (0.16.0)\n",
            "Requirement already satisfied: annotated-types>=0.6.0 in /usr/local/lib/python3.11/dist-packages (from pydantic>=2.10.3->mistralai) (0.7.0)\n",
            "Requirement already satisfied: pydantic-core==2.33.2 in /usr/local/lib/python3.11/dist-packages (from pydantic>=2.10.3->mistralai) (2.33.2)\n",
            "Requirement already satisfied: typing-extensions>=4.12.2 in /usr/local/lib/python3.11/dist-packages (from pydantic>=2.10.3->mistralai) (4.14.0)\n",
            "Requirement already satisfied: six>=1.5 in /usr/local/lib/python3.11/dist-packages (from python-dateutil>=2.8.2->mistralai) (1.17.0)\n",
            "Requirement already satisfied: sniffio>=1.1 in /usr/local/lib/python3.11/dist-packages (from anyio->httpx>=0.28.1->mistralai) (1.3.1)\n",
            "Downloading mistralai-1.8.2-py3-none-any.whl (374 kB)\n",
            "\u001b[2K   \u001b[90m━━━━━━━━━━━━━━━━━━━━━━━━━━━━━━━━━━━━━━━━\u001b[0m \u001b[32m374.1/374.1 kB\u001b[0m \u001b[31m7.0 MB/s\u001b[0m eta \u001b[36m0:00:00\u001b[0m\n",
            "\u001b[?25hDownloading eval_type_backport-0.2.2-py3-none-any.whl (5.8 kB)\n",
            "Installing collected packages: eval-type-backport, mistralai\n",
            "Successfully installed eval-type-backport-0.2.2 mistralai-1.8.2\n"
          ]
        }
      ],
      "source": [
        "pip install mistralai\n"
      ]
    },
    {
      "cell_type": "markdown",
      "source": [
        "# single image\n"
      ],
      "metadata": {
        "id": "6Y5Ky4JZ8xMh"
      }
    },
    {
      "cell_type": "code",
      "source": [
        "API_KEY='rrENEIP4CNCLjIyGyG9YGbgGXgMvcWPo'\n"
      ],
      "metadata": {
        "id": "m9Ujhp2X8H3l"
      },
      "execution_count": 2,
      "outputs": []
    },
    {
      "cell_type": "code",
      "source": [
        "from google.colab import drive\n",
        "drive.mount('/content/drive')\n"
      ],
      "metadata": {
        "colab": {
          "base_uri": "https://localhost:8080/"
        },
        "id": "JqHMmGB18KHY",
        "outputId": "9993c691-bdc3-4951-bea9-8aeacbf3b22b"
      },
      "execution_count": 3,
      "outputs": [
        {
          "output_type": "stream",
          "name": "stdout",
          "text": [
            "Mounted at /content/drive\n"
          ]
        }
      ]
    },
    {
      "cell_type": "code",
      "source": [
        "def encode_image(path):\n",
        "    with open(path, \"rb\") as img:\n",
        "        return base64.b64encode(img.read()).decode(\"utf-8\")\n",
        "\n",
        "def extract_ocr_text(base64image):\n",
        "    response = client.ocr.process(\n",
        "        model=\"mistral-ocr-latest\",\n",
        "        document={\n",
        "            \"type\": \"image_url\",\n",
        "            \"image_url\": f\"data:image/png;base64,{base64image}\"\n",
        "        }\n",
        "    )\n",
        "    return response.pages[0].markdown"
      ],
      "metadata": {
        "id": "1J7VibJy8MVj"
      },
      "execution_count": 4,
      "outputs": []
    },
    {
      "cell_type": "code",
      "source": [
        "import base64\n",
        "from PIL import Image\n",
        "import os\n",
        "from mistralai import Mistral\n",
        "\n",
        "API_KEY = 'rrENEIP4CNCLjIyGyG9YGbgGXgMvcWPo'\n",
        "client = Mistral(api_key=API_KEY)\n",
        "\n",
        "image_path = '/content/drive/MyDrive/UPS_datasets /ups_labels/L16_aug11.jpg'\n",
        "\n",
        "original = Image.open(image_path)\n",
        "width, height = original.size\n",
        "\n",
        "\n",
        "upper_half = original.crop((0, 0, width, int(height * 0.6)))\n",
        "upper_half_path = 'upper_half.png'\n",
        "upper_half.save(upper_half_path)\n",
        "\n",
        "lower_half = original.crop((0, int(height * 0.6), width, height))\n",
        "lower_half_path = 'lower_half.png'\n",
        "lower_half.save(lower_half_path)\n",
        "\n",
        "\n",
        "\n",
        "upper_b64 = encode_image(upper_half_path)\n",
        "lower_b64 = encode_image(lower_half_path)\n",
        "\n",
        "upper_text = extract_ocr_text(upper_b64)\n",
        "lower_text = extract_ocr_text(lower_b64)\n",
        "\n",
        "combined_text = upper_text.strip() + \"\\n\\n\" + lower_text.strip()\n",
        "\n",
        "# print(\"=== COMBINED OCR OUTPUT ===\\n\")\n",
        "# print(combined_text)\n",
        "\n"
      ],
      "metadata": {
        "id": "HifpznUk8NBU"
      },
      "execution_count": 10,
      "outputs": []
    },
    {
      "cell_type": "code",
      "source": [
        "\n",
        "import re\n",
        "\n",
        "def clean_ocr_text(text):\n",
        "    lines = text.splitlines()\n",
        "    cleaned_lines = []\n",
        "\n",
        "    for line in lines:\n",
        "        line = line.strip()\n",
        "\n",
        "        if not line:\n",
        "            continue\n",
        "\n",
        "        if line.startswith(\"![\") and \"](\" in line:\n",
        "            continue\n",
        "        if set(line.replace('|', '').strip()) == {'-'}:\n",
        "            continue\n",
        "\n",
        "        if '|' in line:\n",
        "            parts = [part.strip() for part in line.split('|') if part.strip()]\n",
        "            line = ' '.join(parts)\n",
        "\n",
        "        cleaned_lines.append(line)\n",
        "\n",
        "    return '\\n'.join(cleaned_lines)\n",
        "\n",
        "\n",
        "cleaned_text = clean_ocr_text(combined_text)\n",
        "# print(\"=== CLEANED OCR TEXT ===\\n\")\n",
        "# print(cleaned_text)\n",
        "\n",
        "os.remove(upper_half_path)\n",
        "os.remove(lower_half_path)\n",
        "\n",
        "\n",
        "normalized_text = re.sub(r\"[*#]+\", \"\", cleaned_text)\n",
        "\n",
        "normalized_text = re.sub(r\"(SHIP[\\s_]*TO)[:\\-]?\", \"SHIP TO\", normalized_text, flags=re.IGNORECASE)\n",
        "\n",
        "# print(normalized_text)"
      ],
      "metadata": {
        "id": "RWNrenwp8a_6"
      },
      "execution_count": 11,
      "outputs": []
    },
    {
      "cell_type": "code",
      "source": [
        "ship_to_match = re.search(\n",
        "    r\"SHIP TO\\s*(.*?)(?:TRACKING|1Z|TILLING|COD|BILLING|REFERENCE|\\Z)\",\n",
        "    normalized_text,\n",
        "    re.IGNORECASE | re.DOTALL\n",
        ")\n",
        "\n",
        "if ship_to_match:\n",
        "    ship_to_block = ship_to_match.group(1).strip()\n",
        "    print(\"SHIP TO BLOCK:\\n\", ship_to_block)\n",
        "else:\n",
        "    print(\"SHIP TO BLOCK: Not found\")\n",
        "\n",
        "\n",
        "tracking_match = re.search(\n",
        "    r\"TRACKING\\s*[:#]?\\s*([A-Z0-9 ]{10,})\",\n",
        "    normalized_text,\n",
        "    re.IGNORECASE\n",
        ")\n",
        "\n",
        "if tracking_match:\n",
        "    tracking_number = tracking_match.group(1).strip()\n",
        "    print(\"TRACKING NUMBER BLOCK:\\n\", tracking_number)\n",
        "else:\n",
        "    print(\"TRACKING NUMBER BLOCK: Not found\")"
      ],
      "metadata": {
        "colab": {
          "base_uri": "https://localhost:8080/"
        },
        "id": "JS2LxMDL8erA",
        "outputId": "8eb4dab7-3222-4f30-f857-15190948aa7c"
      },
      "execution_count": 12,
      "outputs": [
        {
          "output_type": "stream",
          "name": "stdout",
          "text": [
            "SHIP TO BLOCK:\n",
            " JOHN SMITH\n",
            "123 MAIN STREET\n",
            "GREENWICH CT 06830\n",
            "CT 069 9-01\n",
            "UPS NEXT DAY AIR 1\n",
            "TRACKING NUMBER BLOCK:\n",
            " 12 112 F0 01 4588 0405\n"
          ]
        }
      ]
    },
    {
      "cell_type": "code",
      "source": [
        "lines = ship_to_block.splitlines()\n",
        "cleaned_lines = [line.strip() for line in lines if line.strip()]\n",
        "ship_to_block_cleaned = '\\n'.join(cleaned_lines)\n",
        "print(\"CLEANED SHIP TO BLOCK:\\n\", ship_to_block_cleaned)\n"
      ],
      "metadata": {
        "colab": {
          "base_uri": "https://localhost:8080/"
        },
        "id": "J5WZbvo48ft7",
        "outputId": "f05e455e-e3e3-46ee-b523-8f67e948ad4f"
      },
      "execution_count": 13,
      "outputs": [
        {
          "output_type": "stream",
          "name": "stdout",
          "text": [
            "CLEANED SHIP TO BLOCK:\n",
            " JOHN SMITH\n",
            "123 MAIN STREET\n",
            "GREENWICH CT 06830\n",
            "CT 069 9-01\n",
            "UPS NEXT DAY AIR 1\n"
          ]
        }
      ]
    },
    {
      "cell_type": "code",
      "source": [
        "\n",
        "import re\n",
        "\n",
        "ship_to_lines = [line.strip() for line in ship_to_block_cleaned.strip().split('\\n') if line.strip()]\n",
        "\n",
        "name = ship_to_lines[0] if len(ship_to_lines) > 0 else \"\"\n",
        "street = ship_to_lines[1] if len(ship_to_lines) > 1 else \"\"\n",
        "city_state_zip_line = ship_to_lines[2] if len(ship_to_lines) > 2 else \"\"\n",
        "possible_phone_line = ship_to_lines[3] if len(ship_to_lines) > 3 else \"\"\n",
        "\n",
        "city = state = zip_code = phone = \"\"\n",
        "\n",
        "# Try format: \"CITY ST ZIP\"\n",
        "match_full = re.match(r\"(.+?)\\s+([A-Z]{2})\\s+(\\d{5})\", city_state_zip_line)\n",
        "if match_full:\n",
        "    city, state, zip_code = match_full.groups()\n",
        "\n",
        "# Else try: \"CITY, ST\"\n",
        "elif re.match(r\"(.+?),\\s*([A-Z]{2})\", city_state_zip_line):\n",
        "    match = re.match(r\"(.+?),\\s*([A-Z]{2})\", city_state_zip_line)\n",
        "    city, state = match.groups()\n",
        "    zip_code = None\n",
        "\n",
        "# Detect phone number line\n",
        "if len(re.sub(r\"\\D\", \"\", possible_phone_line)) >= 10:\n",
        "    phone = possible_phone_line.strip()\n",
        "else:\n",
        "    phone = None\n",
        "\n",
        "# Output\n",
        "print(\"NAME:\", name)\n",
        "print(\"STREET:\", street)\n",
        "print(\"CITY:\", city)\n",
        "print(\"STATE:\", state)\n",
        "print(\"ZIP CODE:\", zip_code if zip_code else \"None\")\n",
        "print(\"PHONE:\", phone if phone else \"None\")\n",
        "print(\"TRACKING ID:\", tracking_number)\n",
        "\n"
      ],
      "metadata": {
        "colab": {
          "base_uri": "https://localhost:8080/"
        },
        "id": "uANFEBIy8iQ6",
        "outputId": "222a8dfb-d2ad-4f41-f5d3-a978cb2fe559"
      },
      "execution_count": 14,
      "outputs": [
        {
          "output_type": "stream",
          "name": "stdout",
          "text": [
            "NAME: JOHN SMITH\n",
            "STREET: 123 MAIN STREET\n",
            "CITY: GREENWICH\n",
            "STATE: CT\n",
            "ZIP CODE: 06830\n",
            "PHONE: None\n",
            "TRACKING ID: 12 112 F0 01 4588 0405\n"
          ]
        }
      ]
    },
    {
      "cell_type": "markdown",
      "source": [
        "# batch\n"
      ],
      "metadata": {
        "id": "uoYxQwqF823a"
      }
    },
    {
      "cell_type": "code",
      "source": [
        "API_KEY = 'rrENEIP4CNCLjIyGyG9YGbgGXgMvcWPo'\n",
        "client = Mistral(api_key=API_KEY)"
      ],
      "metadata": {
        "id": "r9WzncfM_5MQ"
      },
      "execution_count": 19,
      "outputs": []
    },
    {
      "cell_type": "code",
      "source": [
        "drive_folder = '/content/drive/MyDrive/labelss'\n",
        "\n",
        "image_files = [os.path.join(drive_folder, f) for f in os.listdir(drive_folder)\n",
        "               if f.lower().endswith(('.png', '.jpg', '.jpeg'))]\n"
      ],
      "metadata": {
        "id": "4NEjOXPn84TX"
      },
      "execution_count": 16,
      "outputs": []
    },
    {
      "cell_type": "code",
      "source": [
        "import os\n",
        "import base64\n",
        "import re\n",
        "from PIL import Image\n",
        "from mistralai import Mistral\n",
        "\n",
        "def encode_image(path):\n",
        "    with open(path, \"rb\") as img:\n",
        "        return base64.b64encode(img.read()).decode(\"utf-8\")\n",
        "\n",
        "def extract_ocr_text(base64image):\n",
        "    response = client.ocr.process(\n",
        "        model=\"mistral-ocr-latest\",\n",
        "        document={\n",
        "            \"type\": \"image_url\",\n",
        "            \"image_url\": f\"data:image/png;base64,{base64image}\"\n",
        "        }\n",
        "    )\n",
        "    return response.pages[0].markdown"
      ],
      "metadata": {
        "id": "Srv5lYcF-5ca"
      },
      "execution_count": 18,
      "outputs": []
    },
    {
      "cell_type": "code",
      "source": [
        "def clean_ocr_text(text):\n",
        "    lines = text.splitlines()\n",
        "    cleaned_lines = []\n",
        "\n",
        "    for line in lines:\n",
        "        line = line.strip()\n",
        "        if not line:\n",
        "            continue\n",
        "        if line.startswith(\"![\") and \"](\" in line:\n",
        "            continue\n",
        "        if set(line.replace('|', '').strip()) == {'-'}:\n",
        "            continue\n",
        "        if '|' in line:\n",
        "            parts = [part.strip() for part in line.split('|') if part.strip()]\n",
        "            line = ' '.join(parts)\n",
        "        cleaned_lines.append(line)\n",
        "\n",
        "    return '\\n'.join(cleaned_lines)"
      ],
      "metadata": {
        "id": "oSMsgxOd_BML"
      },
      "execution_count": 20,
      "outputs": []
    },
    {
      "cell_type": "code",
      "source": [
        "for image_path in image_files:\n",
        "    original = Image.open(image_path)\n",
        "    width, height = original.size\n",
        "\n",
        "    upper_half = original.crop((0, 0, width, int(height * 0.6)))\n",
        "    lower_half = original.crop((0, int(height * 0.6), width, height))\n",
        "\n",
        "    upper_half_path = 'upper_half.png'\n",
        "    lower_half_path = 'lower_half.png'\n",
        "    upper_half.save(upper_half_path)\n",
        "    lower_half.save(lower_half_path)\n",
        "\n",
        "    upper_b64 = encode_image(upper_half_path)\n",
        "    lower_b64 = encode_image(lower_half_path)\n",
        "\n",
        "    upper_text = extract_ocr_text(upper_b64)\n",
        "    lower_text = extract_ocr_text(lower_b64)\n",
        "\n",
        "    combined_text = upper_text.strip() + \"\\n\\n\" + lower_text.strip()\n",
        "    cleaned_text = clean_ocr_text(combined_text)\n",
        "\n",
        "    os.remove(upper_half_path)\n",
        "    os.remove(lower_half_path)\n",
        "\n",
        "    normalized_text = re.sub(r\"[*#]+\", \"\", cleaned_text)\n",
        "    normalized_text = re.sub(r\"(SHIP[\\s_]*TO)[:\\-]?\", \"SHIP TO\", normalized_text, flags=re.IGNORECASE)\n",
        "\n",
        "    ship_to_match = re.search(\n",
        "        r\"SHIP TO\\s*(.*?)(?:TRACKING|1Z|TILLING|COD|BILLING|REFERENCE|\\Z)\",\n",
        "        normalized_text,\n",
        "        re.IGNORECASE | re.DOTALL\n",
        "    )\n",
        "\n",
        "    if ship_to_match:\n",
        "        ship_to_block = ship_to_match.group(1).strip()\n",
        "        print(f\"\\nIMAGE: {os.path.basename(image_path)}\")\n",
        "        #print(\"SHIP TO BLOCK:\\n\", ship_to_block)\n",
        "    else:\n",
        "        print(f\"\\nIMAGE: {os.path.basename(image_path)}\")\n",
        "        print(\"SHIP TO BLOCK: Not found\")\n",
        "        continue\n",
        "\n",
        "    tracking_match = re.search(\n",
        "        r\"TRACKING\\s*[:#]?\\s*([A-Z0-9 ]{10,})\",\n",
        "        normalized_text,\n",
        "        re.IGNORECASE\n",
        "    )\n",
        "\n",
        "    if tracking_match:\n",
        "        tracking_number = tracking_match.group(1).strip()\n",
        "        #print(\"TRACKING NUMBER BLOCK:\\n\", tracking_number)\n",
        "    else:\n",
        "        print(\"TRACKING NUMBER BLOCK: Not found\")\n",
        "        tracking_number = \"None\"\n",
        "\n",
        "    lines = ship_to_block.splitlines()\n",
        "    cleaned_lines = [line.strip() for line in lines if line.strip()]\n",
        "    ship_to_block_cleaned = '\\n'.join(cleaned_lines)\n",
        "    #print(\"CLEANED SHIP TO BLOCK:\\n\", ship_to_block_cleaned)\n",
        "\n",
        "    ship_to_lines = [line.strip() for line in ship_to_block_cleaned.strip().split('\\n') if line.strip()]\n",
        "\n",
        "    name = ship_to_lines[0] if len(ship_to_lines) > 0 else \"\"\n",
        "    street = ship_to_lines[1] if len(ship_to_lines) > 1 else \"\"\n",
        "    city_state_zip_line = ship_to_lines[2] if len(ship_to_lines) > 2 else \"\"\n",
        "    possible_phone_line = ship_to_lines[3] if len(ship_to_lines) > 3 else \"\"\n",
        "\n",
        "    city = state = zip_code = phone = \"\"\n",
        "\n",
        "    match_full = re.match(r\"(.+?)\\s+([A-Z]{2})\\s+(\\d{5})\", city_state_zip_line)\n",
        "    if match_full:\n",
        "        city, state, zip_code = match_full.groups()\n",
        "    elif re.match(r\"(.+?),\\s*([A-Z]{2})\", city_state_zip_line):\n",
        "        match = re.match(r\"(.+?),\\s*([A-Z]{2})\", city_state_zip_line)\n",
        "        city, state = match.groups()\n",
        "        zip_code = None\n",
        "\n",
        "    if len(re.sub(r\"\\D\", \"\", possible_phone_line)) >= 10:\n",
        "        phone = possible_phone_line.strip()\n",
        "    else:\n",
        "        phone = None\n",
        "\n",
        "    print(\"NAME:\", name)\n",
        "    print(\"STREET:\", street)\n",
        "    print(\"CITY:\", city)\n",
        "    print(\"STATE:\", state)\n",
        "    print(\"ZIP CODE:\", zip_code if zip_code else \"None\")\n",
        "    print(\"PHONE:\", phone if phone else \"None\")\n",
        "    print(\"TRACKING ID:\", tracking_number)\n"
      ],
      "metadata": {
        "colab": {
          "base_uri": "https://localhost:8080/"
        },
        "id": "EhyBq3BZAA6u",
        "outputId": "f3c157ac-4bef-469a-b289-d70e3300da1a"
      },
      "execution_count": 24,
      "outputs": [
        {
          "output_type": "stream",
          "name": "stdout",
          "text": [
            "\n",
            "IMAGE: L16_aug11.jpg\n",
            "NAME: JOHN SMITH\n",
            "STREET: 123 MAIN STREET\n",
            "CITY: GREENWICH\n",
            "STATE: CT\n",
            "ZIP CODE: 06830\n",
            "PHONE: None\n",
            "TRACKING ID: 12 112 F0 01 4588 0405\n",
            "\n",
            "IMAGE: L6_aug20.jpg\n",
            "TRACKING NUMBER BLOCK: Not found\n",
            "NAME: KARTHIK NAIK\n",
            "STREET: 9876543210\n",
            "CITY: \n",
            "STATE: \n",
            "ZIP CODE: None\n",
            "PHONE: None\n",
            "TRACKING ID: None\n",
            "\n",
            "IMAGE: L9_aug30.jpg\n",
            "NAME: UPS Customer 2\n",
            "STREET: 123 Main Street\n",
            "CITY: Brussels\n",
            "STATE: BE\n",
            "ZIP CODE: None\n",
            "PHONE: 1234567890\n",
            "TRACKING ID: 1Y E59 512 34 5678 9012\n",
            "\n",
            "IMAGE: L4_aug26.jpg\n",
            "NAME: LANE MARTIN\n",
            "STREET: 8801986582197\n",
            "CITY: \n",
            "STATE: \n",
            "ZIP CODE: None\n",
            "PHONE: None\n",
            "TRACKING ID: 1Z X37 301 66 9076 5996\n",
            "\n",
            "IMAGE: L5_aug28.jpg\n",
            "NAME: DEVESH RAJARSHI 09123456789\n",
            "STREET: MAIN STREET: GROUND FLOOR, 4TH CROSS ROAD, 2ND NEW YORK NY 10017\n",
            "CITY: \n",
            "STATE: \n",
            "ZIP CODE: None\n",
            "PHONE: None\n",
            "TRACKING ID: 1Z 262 AY9 72 9860 3378\n",
            "\n",
            "IMAGE: L3_aug29.jpg\n",
            "NAME: JOSEPHINE MARIS\n",
            "STREET: 147852369\n",
            "CITY: \n",
            "STATE: \n",
            "ZIP CODE: None\n",
            "PHONE: None\n",
            "TRACKING ID: 1Z 1X0 894 68 3184 8881\n"
          ]
        }
      ]
    },
    {
      "cell_type": "code",
      "source": [],
      "metadata": {
        "id": "3fp6pfA9ABds"
      },
      "execution_count": null,
      "outputs": []
    }
  ]
}